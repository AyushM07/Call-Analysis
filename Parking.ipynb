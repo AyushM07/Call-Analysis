{
 "cells": [
  {
   "cell_type": "code",
   "execution_count": null,
   "id": "3676d0ad",
   "metadata": {},
   "outputs": [],
   "source": [
    "import pandas as pd"
   ]
  },
  {
   "cell_type": "code",
   "execution_count": null,
   "id": "7b165a42",
   "metadata": {},
   "outputs": [
    {
     "name": "stderr",
     "output_type": "stream",
     "text": [
      "/Users/jugal/opt/anaconda3/lib/python3.8/site-packages/IPython/core/interactiveshell.py:3165: DtypeWarning: Columns (20,31,32) have mixed types.Specify dtype option on import or set low_memory=False.\n",
      "  has_raised = await self.run_ast_nodes(code_ast.body, cell_name,\n"
     ]
    }
   ],
   "source": [
    "df=pd.read_csv('311_Service_Requests_2020.csv')"
   ]
  },
  {
   "cell_type": "markdown",
   "id": "839a78ac",
   "metadata": {},
   "source": [
    "Number of Parking incidents in Zipcode `10027`"
   ]
  },
  {
   "cell_type": "code",
   "execution_count": null,
   "id": "1c61805d",
   "metadata": {
    "scrolled": true
   },
   "outputs": [],
   "source": [
    "a=len(df[(df['Incident Zip']==10027) & (df[\"Complaint Type\"]=='Illegal Parking')])"
   ]
  },
  {
   "cell_type": "markdown",
   "id": "f4c14dd6",
   "metadata": {},
   "source": [
    "Total Number of Incidents in Zipcode `10027`"
   ]
  },
  {
   "cell_type": "code",
   "execution_count": null,
   "id": "dbf5404d",
   "metadata": {},
   "outputs": [],
   "source": [
    "b=len(df[(df['Incident Zip']==10027) ])"
   ]
  },
  {
   "cell_type": "markdown",
   "id": "d71393ad",
   "metadata": {},
   "source": [
    "Total Number of Illegal Parking Incidents"
   ]
  },
  {
   "cell_type": "code",
   "execution_count": null,
   "id": "d87cf9e9",
   "metadata": {},
   "outputs": [],
   "source": [
    "c=len(df[(df[\"Complaint Type\"]=='Illegal Parking')])"
   ]
  },
  {
   "cell_type": "markdown",
   "id": "cb10c7a4",
   "metadata": {},
   "source": [
    "Total Incidents in entire Dataframe"
   ]
  },
  {
   "cell_type": "code",
   "execution_count": null,
   "id": "cb3ed9e6",
   "metadata": {},
   "outputs": [],
   "source": [
    "d=len(df)"
   ]
  },
  {
   "cell_type": "code",
   "execution_count": null,
   "id": "b7063196",
   "metadata": {},
   "outputs": [],
   "source": [
    "higher_parking_proportion=a/b>c/d"
   ]
  },
  {
   "cell_type": "code",
   "execution_count": null,
   "id": "9366e6d5",
   "metadata": {},
   "outputs": [
    {
     "data": {
      "text/plain": [
       "False"
      ]
     },
     "metadata": {},
     "output_type": "display_data"
    }
   ],
   "source": [
    "higher_parking_proportion"
   ]
  },
  {
   "cell_type": "code",
   "execution_count": null,
   "id": "fe642aed",
   "metadata": {},
   "outputs": [],
   "source": []
  }
 ],
 "metadata": {
  "kernelspec": {
   "display_name": "Python 3",
   "language": "python",
   "name": "python3"
  },
  "language_info": {
   "codemirror_mode": {
    "name": "ipython",
    "version": 3
   },
   "file_extension": ".py",
   "mimetype": "text/x-python",
   "name": "python",
   "nbconvert_exporter": "python",
   "pygments_lexer": "ipython3",
   "version": "3.8.8"
  }
 },
 "nbformat": 4,
 "nbformat_minor": 5
}
