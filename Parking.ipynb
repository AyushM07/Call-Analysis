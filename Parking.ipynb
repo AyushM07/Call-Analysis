{
 "cells": [
  {
   "cell_type": "code",
   "execution_count": 17,
   "id": "8ed5ea66",
   "metadata": {},
   "outputs": [
    {
     "name": "stderr",
     "output_type": "stream",
     "text": [
      "/opt/anaconda3/lib/python3.8/site-packages/IPython/core/interactiveshell.py:3165: DtypeWarning: Columns (20,31,32) have mixed types.Specify dtype option on import or set low_memory=False.\n",
      "  has_raised = await self.run_ast_nodes(code_ast.body, cell_name,\n"
     ]
    },
    {
     "data": {
      "text/plain": [
       "False"
      ]
     },
     "execution_count": 17,
     "metadata": {},
     "output_type": "execute_result"
    }
   ],
   "source": [
    "import csv \n",
    "import pandas as pd \n",
    "df= pd.read_csv('/Users/AyushMadhogaria/Desktop/Call_Analysis/311_Service_Requests_2020.csv')\n",
    "a=df.loc[df['Incident Zip']==10027]\n",
    "b=a.loc[df['Complaint Type']=='Illegal Parking']\n",
    "a=len(a)\n",
    "b=len(b)\n",
    "c=df.loc[df['Complaint Type']=='Illegal Parking']\n",
    "c=len(c)\n",
    "d=len(df)\n",
    "zipparking=b/a\n",
    "globalparking=c/d\n",
    "higher_parking_proportion = zipparking>globalparking\n",
    "higher_parking_proportion"
   ]
  },
  {
   "cell_type": "code",
   "execution_count": null,
   "id": "3a8d7c4b",
   "metadata": {},
   "outputs": [],
   "source": []
  }
 ],
 "metadata": {
  "kernelspec": {
   "display_name": "Python 3",
   "language": "python",
   "name": "python3"
  },
  "language_info": {
   "codemirror_mode": {
    "name": "ipython",
    "version": 3
   },
   "file_extension": ".py",
   "mimetype": "text/x-python",
   "name": "python",
   "nbconvert_exporter": "python",
   "pygments_lexer": "ipython3",
   "version": "3.8.8"
  }
 },
 "nbformat": 4,
 "nbformat_minor": 5
}
