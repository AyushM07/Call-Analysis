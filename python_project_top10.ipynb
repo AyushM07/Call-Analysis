{
 "cells": [
  {
   "cell_type": "code",
   "execution_count": 9,
   "id": "9907ff8c",
   "metadata": {},
   "outputs": [
    {
     "data": {
      "text/plain": [
       "Loud Music/Party                 4661\n",
       "Banging/Pounding                 1618\n",
       "ENTIRE BUILDING                  1346\n",
       "APARTMENT ONLY                    792\n",
       "Social Distancing                 703\n",
       "Loud Talking                      700\n",
       "Car/Truck Music                   539\n",
       "Posted Parking Sign Violation     404\n",
       "PESTS                             345\n",
       "Business not in compliance        343\n",
       "Name: Descriptor, dtype: int64"
      ]
     },
     "execution_count": 9,
     "metadata": {},
     "output_type": "execute_result"
    }
   ],
   "source": [
    "import csv \n",
    "import pandas as pd \n",
    "df= pd.read_csv('/Users/AyushMadhogaria/Desktop/311_Service_Requests_2020.csv')\n",
    "df=df.loc[df['Incident Zip']==10027]\n",
    "a= df['Descriptor'].value_counts()\n",
    "top10= a.nlargest(10)\n",
    "top10\n"
   ]
  },
  {
   "cell_type": "code",
   "execution_count": null,
   "id": "094402d9",
   "metadata": {},
   "outputs": [],
   "source": []
  },
  {
   "cell_type": "code",
   "execution_count": null,
   "id": "694eb74f",
   "metadata": {},
   "outputs": [],
   "source": []
  }
 ],
 "metadata": {
  "kernelspec": {
   "display_name": "Python 3",
   "language": "python",
   "name": "python3"
  },
  "language_info": {
   "codemirror_mode": {
    "name": "ipython",
    "version": 3
   },
   "file_extension": ".py",
   "mimetype": "text/x-python",
   "name": "python",
   "nbconvert_exporter": "python",
   "pygments_lexer": "ipython3",
   "version": "3.8.8"
  }
 },
 "nbformat": 4,
 "nbformat_minor": 5
}
