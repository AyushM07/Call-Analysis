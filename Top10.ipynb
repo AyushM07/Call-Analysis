{
 "cells": [
  {
   "cell_type": "code",
   "execution_count": null,
   "id": "aec89711",
   "metadata": {},
   "outputs": [],
   "source": [
    "import pandas as pd"
   ]
  },
  {
   "cell_type": "markdown",
   "id": "55a0afa5",
   "metadata": {},
   "source": [
    "Importing the Dataframe"
   ]
  },
  {
   "cell_type": "code",
   "execution_count": null,
   "id": "6e4b7abd",
   "metadata": {
    "scrolled": true
   },
   "outputs": [
    {
     "name": "stderr",
     "output_type": "stream",
     "text": [
      "/Users/jugal/opt/anaconda3/lib/python3.8/site-packages/IPython/core/interactiveshell.py:3165: DtypeWarning: Columns (20,31,32) have mixed types.Specify dtype option on import or set low_memory=False.\n",
      "  has_raised = await self.run_ast_nodes(code_ast.body, cell_name,\n"
     ]
    }
   ],
   "source": [
    "df=pd.read_csv('311_Service_Requests_2020.csv')"
   ]
  },
  {
   "cell_type": "markdown",
   "id": "b947ca30",
   "metadata": {},
   "source": [
    "Finding the top 10 reasons to call 311 in Zipcode `10027`"
   ]
  },
  {
   "cell_type": "code",
   "execution_count": null,
   "id": "85d815ec",
   "metadata": {},
   "outputs": [],
   "source": [
    "top10=df[(df['Incident Zip']==10027)][\"Complaint Type\"].value_counts().sort_values(ascending=False).head(10)"
   ]
  },
  {
   "cell_type": "code",
   "execution_count": null,
   "id": "e06bdd2d",
   "metadata": {},
   "outputs": [
    {
     "data": {
      "text/plain": [
       "Incident Type\n",
       "Noise - Residential            3610\n",
       "Noise - Street/Sidewalk        3087\n",
       "HEAT/HOT WATER                 2138\n",
       "Illegal Parking                1118\n",
       "Non-Emergency Police Matter     862\n",
       "Illegal Fireworks               779\n",
       "Noise - Vehicle                 647\n",
       "UNSANITARY CONDITION            628\n",
       "PLUMBING                        465\n",
       "Noise                           443\n",
       "Name: Total Number of Incidents, dtype: int64"
      ]
     },
     "metadata": {},
     "output_type": "display_data"
    }
   ],
   "source": [
    "top10.index.name='Incident Type'\n",
    "top10.name='Total Number of Incidents'\n",
    "top10.index.astype(str)\n",
    "top10"
   ]
  }
 ],
 "metadata": {
  "interpreter": {
   "hash": "767d51c1340bd893661ea55ea3124f6de3c7a262a8b4abca0554b478b1e2ff90"
  },
  "kernelspec": {
   "display_name": "Python 2.7.16 64-bit",
   "name": "python3"
  },
  "language_info": {
   "name": "python",
   "version": "2.7.16"
  },
  "orig_nbformat": 4
 },
 "nbformat": 4,
 "nbformat_minor": 2
}
