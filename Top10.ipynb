{
 "cells": [
  {
   "cell_type": "code",
   "execution_count": null,
   "id": "a332d2c9",
   "metadata": {},
   "outputs": [],
   "source": [
    "import pandas as pd"
   ]
  },
  {
   "cell_type": "markdown",
   "id": "8e369aaf",
   "metadata": {},
   "source": [
    "Importing the Dataframe"
   ]
  },
  {
   "cell_type": "code",
   "execution_count": null,
   "id": "63878f31",
   "metadata": {
    "scrolled": true
   },
   "outputs": [
    {
     "name": "stderr",
     "output_type": "stream",
     "text": [
      "/Users/jugal/opt/anaconda3/lib/python3.8/site-packages/IPython/core/interactiveshell.py:3165: DtypeWarning: Columns (20,31,32) have mixed types.Specify dtype option on import or set low_memory=False.\n",
      "  has_raised = await self.run_ast_nodes(code_ast.body, cell_name,\n"
     ]
    }
   ],
   "source": [
    "df=pd.read_csv('311_Service_Requests_2020.csv')"
   ]
  },
  {
   "cell_type": "markdown",
   "id": "0d583c7e",
   "metadata": {},
   "source": [
    "Finding the top 10 reasons to call 311 in Zipcode `10027`"
   ]
  },
  {
   "cell_type": "code",
   "execution_count": null,
   "id": "eb5263e8",
   "metadata": {},
   "outputs": [],
   "source": [
    "top10=df[(df['Incident Zip']==10027)][\"Complaint Type\"].value_counts().sort_values(ascending=False).head(10)"
   ]
  },
  {
   "cell_type": "code",
   "execution_count": null,
   "id": "930528fd",
   "metadata": {},
   "outputs": [
    {
     "data": {
      "text/plain": [
       "Noise - Residential            3610\n",
       "Noise - Street/Sidewalk        3087\n",
       "HEAT/HOT WATER                 2138\n",
       "Illegal Parking                1118\n",
       "Non-Emergency Police Matter     862\n",
       "Illegal Fireworks               779\n",
       "Noise - Vehicle                 647\n",
       "UNSANITARY CONDITION            628\n",
       "PLUMBING                        465\n",
       "Noise                           443\n",
       "Name: Complaint Type, dtype: int64"
      ]
     },
     "metadata": {},
     "output_type": "display_data"
    }
   ],
   "source": [
    "top10"
   ]
  }
 ],
 "metadata": {
  "interpreter": {
   "hash": "767d51c1340bd893661ea55ea3124f6de3c7a262a8b4abca0554b478b1e2ff90"
  },
  "kernelspec": {
   "display_name": "Python 2.7.16 64-bit",
   "name": "python3"
  },
  "language_info": {
   "name": "python",
   "version": "2.7.16"
  },
  "orig_nbformat": 4
 },
 "nbformat": 4,
 "nbformat_minor": 2
}
